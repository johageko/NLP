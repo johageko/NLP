{
 "cells": [
  {
   "cell_type": "markdown",
   "id": "df7b095e",
   "metadata": {},
   "source": [
    "The point of this exercise is to get the Pytasseract package to run, now that Tesseract 5.3.1 has been successfully installed on this computer.\n",
    "Given that batch processing of OCR files is obviously possible in Tesseract 5.3.1 (see https://medium.com/quantrium-tech/installing-and-using-tesseract-4-on-windows-10-4f7930313f82), the question is to what extent pytesseract is really necessary. \n",
    "The answer will probably be: If it can be integrated into more comprehensive Python production pipelines, it may offer added value."
   ]
  },
  {
   "cell_type": "code",
   "execution_count": 3,
   "id": "1b9a60f9",
   "metadata": {},
   "outputs": [],
   "source": [
    "import os \n",
    "import pytesseract\n"
   ]
  },
  {
   "cell_type": "code",
   "execution_count": 26,
   "id": "41b0b293",
   "metadata": {},
   "outputs": [],
   "source": [
    "import pyppeteer"
   ]
  },
  {
   "cell_type": "code",
   "execution_count": 2,
   "id": "e02879e1",
   "metadata": {},
   "outputs": [
    {
     "name": "stdout",
     "output_type": "stream",
     "text": [
      "Collecting pytesseract\n",
      "  Downloading pytesseract-0.3.10-py3-none-any.whl (14 kB)\n",
      "Requirement already satisfied: packaging>=21.3 in c:\\users\\johag\\anaconda3\\lib\\site-packages (from pytesseract) (21.3)\n",
      "Requirement already satisfied: Pillow>=8.0.0 in c:\\users\\johag\\anaconda3\\lib\\site-packages (from pytesseract) (9.0.1)\n",
      "Requirement already satisfied: pyparsing!=3.0.5,>=2.0.2 in c:\\users\\johag\\anaconda3\\lib\\site-packages (from packaging>=21.3->pytesseract) (3.0.4)\n",
      "Installing collected packages: pytesseract\n",
      "Successfully installed pytesseract-0.3.10\n"
     ]
    }
   ],
   "source": [
    "!pip install pytesseract\n"
   ]
  },
  {
   "cell_type": "code",
   "execution_count": 4,
   "id": "335e9890",
   "metadata": {},
   "outputs": [],
   "source": [
    "pytesseract.pytesseract.tesseract_cmd=\"C:\\\\Program Files\\\\Tesseract-OCR\\\\tesseract.exe\""
   ]
  },
  {
   "cell_type": "markdown",
   "id": "e19f6f90",
   "metadata": {},
   "source": [
    "For the following, I relied on https://www.youtube.com/watch?v=O8maBz1yXe0 (Pantech eLearning Channel, How to Install and Import Pytesseract | Pytesseract OCR)"
   ]
  },
  {
   "cell_type": "markdown",
   "id": "dbf8ba77",
   "metadata": {},
   "source": [
    "Open CV lives at https://pypi.org/project/opencv-python/ . \n",
    "\n",
    "### On OpenCV\n",
    "\n",
    "\"OpenCV (Open Source Computer Vision Library) is a library of programming functions mainly for real-time computer vision.[1] Originally developed by Intel, it was later supported by Willow Garage, then Itseez (which was later acquired by Intel[2]). The library is cross-platform and licensed as free and open-source software under Apache License 2. Starting in 2011, OpenCV features GPU acceleration for real-time operations.[3]\" (Wikipedia. https://en.wikipedia.org/wiki/OpenCV)\n",
    "\n",
    "OpenCV makes this tool available within python."
   ]
  },
  {
   "cell_type": "code",
   "execution_count": 6,
   "id": "3d6ca26a",
   "metadata": {},
   "outputs": [
    {
     "name": "stdout",
     "output_type": "stream",
     "text": [
      "Collecting opencv-python\n",
      "  Downloading opencv_python-4.7.0.72-cp37-abi3-win_amd64.whl (38.2 MB)\n",
      "Requirement already satisfied: numpy>=1.17.0 in c:\\users\\johag\\anaconda3\\lib\\site-packages (from opencv-python) (1.21.5)\n",
      "Installing collected packages: opencv-python\n",
      "Successfully installed opencv-python-4.7.0.72\n"
     ]
    }
   ],
   "source": [
    "#!pip install opencv-python"
   ]
  },
  {
   "cell_type": "code",
   "execution_count": 7,
   "id": "b59dbb8c",
   "metadata": {},
   "outputs": [],
   "source": [
    "import cv2"
   ]
  },
  {
   "cell_type": "markdown",
   "id": "565d432e",
   "metadata": {},
   "source": [
    "Note that most Python-related publications will urge you to install the PIL image processing package instead. OpenCR appears to be a more efficient alternative, but it is written in C, rather than in Python itself. \n",
    "\n",
    "For a comparison of both packages, see\n",
    "https://towardsdatascience.com/image-processing-opencv-vs-pil-a26e9923cdf3 (Suraj Gurav, \"Image Processing — OpenCV Vs PIL\", Jun 21, 2021)\n",
    "\n",
    "\n",
    "\n"
   ]
  },
  {
   "cell_type": "markdown",
   "id": "5c104c11",
   "metadata": {},
   "source": [
    "### Obtaining the Image"
   ]
  },
  {
   "cell_type": "code",
   "execution_count": 11,
   "id": "aced3c70",
   "metadata": {},
   "outputs": [],
   "source": [
    "# Load the image\n",
    "image = cv2.imread(\"C:\\\\Users\\\\johag\\\\Documents\\\\TroisAmis\\\\Ch_1\\\\101.jpg\")\n",
    " \n",
    "# Display the image\n",
    "cv2.imshow(\"Image\", image)\n",
    " \n",
    "# Wait for the user to press a key\n",
    "cv2.waitKey(0)\n",
    " \n",
    "# Close all windows\n",
    "cv2.destroyAllWindows()"
   ]
  },
  {
   "cell_type": "markdown",
   "id": "9a458666",
   "metadata": {},
   "source": [
    "### Recognizing the Image via Pytesseract"
   ]
  },
  {
   "cell_type": "code",
   "execution_count": 18,
   "id": "02c4b8a5",
   "metadata": {},
   "outputs": [],
   "source": [
    "my_text = pytesseract.image_to_string(image)"
   ]
  },
  {
   "cell_type": "code",
   "execution_count": 19,
   "id": "9867c920",
   "metadata": {},
   "outputs": [
    {
     "data": {
      "text/plain": [
       "\"ment en commun nos élaborations mentales pour en faire\\nun livre de plus. Certains aiment inventer des concepts, et\\nils s’attachent ensuite a l’idée de les propager. Notre but\\nest plutét le partage de ce que nous avons appris de nos\\nmaitres, spirituels ou autres, de nos études et de notre pra-\\ntique méditative ou thérapeutique.\\n\\nEn ce qui me concerne, c’est grace a la sagesse et ala\\nbonté de mes maitres spirituels que j’ai pu me transformer\\nun tant soit peu et me mettre au service d’autrui. J’essaie\\ndonc, 4 mon tour, de partager ce qu’ils m’ont apporté en\\nfaisant de mon mieux pour ne pas trahir ni dénaturer leur\\n\\nmessage.\\n\\nAtexanpee : I] n’y a qu’une urgence, c’est de nous engager\\n4 fond dans une pratique, nourrir en soi un ardent désir\\nde progresser, et réaliser que nous pouvons échapper ala\\nprison de notre mental. Chacun peut disserter a l’envi sur\\nla pratique, mais la vivre jour aprés jour, voila la grande\\naffaire... Lors d’une conférence a l'association des Indi-\\ngnés, j’étais moi-méme un peu « indigné », car aprés les\\nbeaux discours, je me suis retrouvé seul sous une pluie\\nbattante, obligé de rentrer a pied 4 la maison. Il est vain\\n\""
      ]
     },
     "execution_count": 19,
     "metadata": {},
     "output_type": "execute_result"
    }
   ],
   "source": [
    "my_text"
   ]
  },
  {
   "cell_type": "markdown",
   "id": "23ca685a",
   "metadata": {},
   "source": [
    "This works, but the specific French characters have not been recognized. \n",
    "We need to see how to reference the French character recognition from pytesseract. "
   ]
  },
  {
   "cell_type": "code",
   "execution_count": 15,
   "id": "bba7cfed",
   "metadata": {},
   "outputs": [
    {
     "data": {
      "text/plain": [
       "['afr',\n",
       " 'amh',\n",
       " 'ara',\n",
       " 'asm',\n",
       " 'aze',\n",
       " 'aze_cyrl',\n",
       " 'bel',\n",
       " 'ben',\n",
       " 'bod',\n",
       " 'bos',\n",
       " 'bre',\n",
       " 'bul',\n",
       " 'cat',\n",
       " 'ceb',\n",
       " 'ces',\n",
       " 'chi_sim',\n",
       " 'chi_sim_vert',\n",
       " 'chi_tra',\n",
       " 'chi_tra_vert',\n",
       " 'chr',\n",
       " 'cos',\n",
       " 'cym',\n",
       " 'dan',\n",
       " 'deu',\n",
       " 'div',\n",
       " 'dzo',\n",
       " 'ell',\n",
       " 'eng',\n",
       " 'enm',\n",
       " 'epo',\n",
       " 'equ',\n",
       " 'est',\n",
       " 'eus',\n",
       " 'fao',\n",
       " 'fas',\n",
       " 'fil',\n",
       " 'fin',\n",
       " 'fra',\n",
       " 'frk',\n",
       " 'frm',\n",
       " 'fry',\n",
       " 'gla',\n",
       " 'gle',\n",
       " 'glg',\n",
       " 'grc',\n",
       " 'guj',\n",
       " 'hat',\n",
       " 'heb',\n",
       " 'hin',\n",
       " 'hrv',\n",
       " 'hun',\n",
       " 'hye',\n",
       " 'iku',\n",
       " 'ind',\n",
       " 'isl',\n",
       " 'ita',\n",
       " 'ita_old',\n",
       " 'jav',\n",
       " 'jpn',\n",
       " 'jpn_vert',\n",
       " 'kan',\n",
       " 'kat',\n",
       " 'kat_old',\n",
       " 'kaz',\n",
       " 'khm',\n",
       " 'kir',\n",
       " 'kmr',\n",
       " 'kor',\n",
       " 'lao',\n",
       " 'lat',\n",
       " 'lav',\n",
       " 'lit',\n",
       " 'ltz',\n",
       " 'mal',\n",
       " 'mar',\n",
       " 'mkd',\n",
       " 'mlt',\n",
       " 'mon',\n",
       " 'mri',\n",
       " 'msa',\n",
       " 'mya',\n",
       " 'nep',\n",
       " 'nld',\n",
       " 'nor',\n",
       " 'oci',\n",
       " 'ori',\n",
       " 'osd',\n",
       " 'pan',\n",
       " 'pol',\n",
       " 'por',\n",
       " 'pus',\n",
       " 'que',\n",
       " 'ron',\n",
       " 'rus',\n",
       " 'san',\n",
       " 'sin',\n",
       " 'slk',\n",
       " 'slv',\n",
       " 'snd',\n",
       " 'spa',\n",
       " 'spa_old',\n",
       " 'sqi',\n",
       " 'srp',\n",
       " 'srp_latn',\n",
       " 'sun',\n",
       " 'swa',\n",
       " 'swe',\n",
       " 'syr',\n",
       " 'tam',\n",
       " 'tat',\n",
       " 'tel',\n",
       " 'tgk',\n",
       " 'tha',\n",
       " 'tir',\n",
       " 'ton',\n",
       " 'tur',\n",
       " 'uig',\n",
       " 'ukr',\n",
       " 'urd',\n",
       " 'uzb',\n",
       " 'uzb_cyrl',\n",
       " 'vie',\n",
       " 'yid',\n",
       " 'yor']"
      ]
     },
     "execution_count": 15,
     "metadata": {},
     "output_type": "execute_result"
    }
   ],
   "source": [
    "pytesseract.get_languages()"
   ]
  },
  {
   "cell_type": "markdown",
   "id": "5012a7d3",
   "metadata": {},
   "source": [
    "The language can now be referenced as a parameter of the .image_to_string() function as follows:"
   ]
  },
  {
   "cell_type": "code",
   "execution_count": 21,
   "id": "d47a6d40",
   "metadata": {},
   "outputs": [],
   "source": [
    "my_text1 = pytesseract.image_to_string(image, lang='fra')"
   ]
  },
  {
   "cell_type": "code",
   "execution_count": 22,
   "id": "e7f35a43",
   "metadata": {},
   "outputs": [
    {
     "data": {
      "text/plain": [
       "\"ment en commun nos élaborations mentales pour en faire\\nun livre de plus. Certains aiment inventer des concepts, et\\nils s’attachent ensuite à l’idée de les propager. Notre but\\nest plutôt le partage de ce que nous avons appris de nos\\nmaîtres, spirituels ou autres, de nos études et de notre pra-\\ntique méditative ou thérapeutique.\\n\\nEn ce qui me concerne, c’est grâce à la sagesse et à la\\nbonté de mes maîtres spirituels que j'ai pu me transformer\\nun tant soit peu et me mettre au service d’autrui. J'essaie\\ndonc, à mon tour, de partager ce qu’ils m'ont apporté en\\nfaisant de mon mieux pour ne pas trahir ni dénaturer leur\\n\\nmessage.\\n\\nALEXANDRE : Il n’y a qu’une urgence, c’est de nous engager\\nà fond dans une pratique, nourrir en soi un ardent désir\\nde progresser, et réaliser que nous pouvons échapper à la\\nprison de notre mental. Chacun peut disserter à l’envi sur\\nla pratique, mais la vivre jour après jour, voilà la grande\\naffaire. Lors d’une conférence à l'association des Indi-\\ngnés, j'étais moi-même un peu « indigné », car après les\\nbeaux discours, je me suis retrouvé seul sous une pluie\\nbattante, obligé de rentrer à pied à la maison. Il est vain\\n\""
      ]
     },
     "execution_count": 22,
     "metadata": {},
     "output_type": "execute_result"
    }
   ],
   "source": [
    "my_text1"
   ]
  },
  {
   "cell_type": "markdown",
   "id": "236b1157",
   "metadata": {},
   "source": [
    "On the basis of an existing, functional Tesseract installation, this text has provided information on how to get pytesseract to run for basic ocr. "
   ]
  }
 ],
 "metadata": {
  "kernelspec": {
   "display_name": "Python 3 (ipykernel)",
   "language": "python",
   "name": "python3"
  },
  "language_info": {
   "codemirror_mode": {
    "name": "ipython",
    "version": 3
   },
   "file_extension": ".py",
   "mimetype": "text/x-python",
   "name": "python",
   "nbconvert_exporter": "python",
   "pygments_lexer": "ipython3",
   "version": "3.9.12"
  }
 },
 "nbformat": 4,
 "nbformat_minor": 5
}
